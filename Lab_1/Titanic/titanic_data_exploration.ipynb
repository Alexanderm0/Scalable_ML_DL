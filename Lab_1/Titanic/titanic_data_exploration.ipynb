{
 "cells": [
  {
   "cell_type": "markdown",
   "source": [
    "# Data exploration and preprocessing for titanic dataset\n",
    "This notebook explores the dataset and looks into:\n",
    "1. Finding and filling missing values\n",
    "2. Transform categorical variables into numerical ones\n",
    "3. Dropping columns that lack predictive power"
   ],
   "metadata": {
    "collapsed": false,
    "pycharm": {
     "name": "#%% md\n"
    }
   }
  },
  {
   "cell_type": "code",
   "execution_count": 163,
   "metadata": {
    "collapsed": true,
    "pycharm": {
     "name": "#%%\n"
    }
   },
   "outputs": [],
   "source": [
    "import pandas as pd\n",
    "from random import randint\n"
   ]
  },
  {
   "cell_type": "markdown",
   "source": [
    "## Data exploration"
   ],
   "metadata": {
    "collapsed": false,
    "pycharm": {
     "name": "#%% md\n"
    }
   }
  },
  {
   "cell_type": "code",
   "execution_count": 164,
   "outputs": [
    {
     "data": {
      "text/plain": "   PassengerId  Survived  Pclass  \\\n0            1         0       3   \n1            2         1       1   \n2            3         1       3   \n3            4         1       1   \n4            5         0       3   \n\n                                                Name     Sex   Age  SibSp  \\\n0                            Braund, Mr. Owen Harris    male  22.0      1   \n1  Cumings, Mrs. John Bradley (Florence Briggs Th...  female  38.0      1   \n2                             Heikkinen, Miss. Laina  female  26.0      0   \n3       Futrelle, Mrs. Jacques Heath (Lily May Peel)  female  35.0      1   \n4                           Allen, Mr. William Henry    male  35.0      0   \n\n   Parch            Ticket     Fare Cabin Embarked  \n0      0         A/5 21171   7.2500   NaN        S  \n1      0          PC 17599  71.2833   C85        C  \n2      0  STON/O2. 3101282   7.9250   NaN        S  \n3      0            113803  53.1000  C123        S  \n4      0            373450   8.0500   NaN        S  ",
      "text/html": "<div>\n<style scoped>\n    .dataframe tbody tr th:only-of-type {\n        vertical-align: middle;\n    }\n\n    .dataframe tbody tr th {\n        vertical-align: top;\n    }\n\n    .dataframe thead th {\n        text-align: right;\n    }\n</style>\n<table border=\"1\" class=\"dataframe\">\n  <thead>\n    <tr style=\"text-align: right;\">\n      <th></th>\n      <th>PassengerId</th>\n      <th>Survived</th>\n      <th>Pclass</th>\n      <th>Name</th>\n      <th>Sex</th>\n      <th>Age</th>\n      <th>SibSp</th>\n      <th>Parch</th>\n      <th>Ticket</th>\n      <th>Fare</th>\n      <th>Cabin</th>\n      <th>Embarked</th>\n    </tr>\n  </thead>\n  <tbody>\n    <tr>\n      <th>0</th>\n      <td>1</td>\n      <td>0</td>\n      <td>3</td>\n      <td>Braund, Mr. Owen Harris</td>\n      <td>male</td>\n      <td>22.0</td>\n      <td>1</td>\n      <td>0</td>\n      <td>A/5 21171</td>\n      <td>7.2500</td>\n      <td>NaN</td>\n      <td>S</td>\n    </tr>\n    <tr>\n      <th>1</th>\n      <td>2</td>\n      <td>1</td>\n      <td>1</td>\n      <td>Cumings, Mrs. John Bradley (Florence Briggs Th...</td>\n      <td>female</td>\n      <td>38.0</td>\n      <td>1</td>\n      <td>0</td>\n      <td>PC 17599</td>\n      <td>71.2833</td>\n      <td>C85</td>\n      <td>C</td>\n    </tr>\n    <tr>\n      <th>2</th>\n      <td>3</td>\n      <td>1</td>\n      <td>3</td>\n      <td>Heikkinen, Miss. Laina</td>\n      <td>female</td>\n      <td>26.0</td>\n      <td>0</td>\n      <td>0</td>\n      <td>STON/O2. 3101282</td>\n      <td>7.9250</td>\n      <td>NaN</td>\n      <td>S</td>\n    </tr>\n    <tr>\n      <th>3</th>\n      <td>4</td>\n      <td>1</td>\n      <td>1</td>\n      <td>Futrelle, Mrs. Jacques Heath (Lily May Peel)</td>\n      <td>female</td>\n      <td>35.0</td>\n      <td>1</td>\n      <td>0</td>\n      <td>113803</td>\n      <td>53.1000</td>\n      <td>C123</td>\n      <td>S</td>\n    </tr>\n    <tr>\n      <th>4</th>\n      <td>5</td>\n      <td>0</td>\n      <td>3</td>\n      <td>Allen, Mr. William Henry</td>\n      <td>male</td>\n      <td>35.0</td>\n      <td>0</td>\n      <td>0</td>\n      <td>373450</td>\n      <td>8.0500</td>\n      <td>NaN</td>\n      <td>S</td>\n    </tr>\n  </tbody>\n</table>\n</div>"
     },
     "execution_count": 164,
     "metadata": {},
     "output_type": "execute_result"
    }
   ],
   "source": [
    "# Analyze structure of data and columns\n",
    "titanic_df = pd.read_csv(\"https://raw.githubusercontent.com/ID2223KTH/id2223kth.github.io/master/assignments/lab1/titanic.csv\")\n",
    "titanic_df.head()"
   ],
   "metadata": {
    "collapsed": false,
    "pycharm": {
     "name": "#%%\n"
    }
   }
  },
  {
   "cell_type": "code",
   "execution_count": 165,
   "outputs": [
    {
     "data": {
      "text/plain": "PassengerId      int64\nSurvived         int64\nPclass           int64\nName            object\nSex             object\nAge            float64\nSibSp            int64\nParch            int64\nTicket          object\nFare           float64\nCabin           object\nEmbarked        object\ndtype: object"
     },
     "execution_count": 165,
     "metadata": {},
     "output_type": "execute_result"
    }
   ],
   "source": [
    "titanic_df.dtypes"
   ],
   "metadata": {
    "collapsed": false,
    "pycharm": {
     "name": "#%%\n"
    }
   }
  },
  {
   "cell_type": "markdown",
   "source": [
    "## 1. Missing values\n",
    "Based on the code below, the titanic dataset features missing values in the following columns:\n",
    "1. Age\n",
    "Input random values between the minimum and maximum age range of passengers\n",
    "2. Cabin\n",
    "However, 'Cabin' column has so many missing values that it is not reliable or representative as a variable. Will drop the column in a later stage.\n",
    "3. Embarked\n",
    "Since only two values are missing here, input the most common port from which the people embarked.\n",
    "\n"
   ],
   "metadata": {
    "collapsed": false,
    "pycharm": {
     "name": "#%% md\n"
    }
   }
  },
  {
   "cell_type": "code",
   "execution_count": 166,
   "outputs": [
    {
     "name": "stdout",
     "output_type": "stream",
     "text": [
      "PassengerId: 0, type: int64\n",
      "Survived: 0, type: int64\n",
      "Pclass: 0, type: int64\n",
      "Name: 0, type: object\n",
      "Sex: 0, type: object\n",
      "Age: 177, type: float64\n",
      "SibSp: 0, type: int64\n",
      "Parch: 0, type: int64\n",
      "Ticket: 0, type: object\n",
      "Fare: 0, type: float64\n",
      "Cabin: 687, type: object\n",
      "Embarked: 2, type: object\n"
     ]
    }
   ],
   "source": [
    "# find NaN values\n",
    "hasNaNs = []\n",
    "\n",
    "for column in titanic_df.columns:\n",
    "  print(column + \": \" + str(sum(titanic_df[column].isna())) + \", type: \"+ str(titanic_df[column].dtype))\n",
    "  if sum(titanic_df[column].isna()) > 0:\n",
    "      hasNaNs.append(column)"
   ],
   "metadata": {
    "collapsed": false,
    "pycharm": {
     "name": "#%%\n"
    }
   }
  },
  {
   "cell_type": "markdown",
   "source": [
    "Look at values for the columns"
   ],
   "metadata": {
    "collapsed": false,
    "pycharm": {
     "name": "#%% md\n"
    }
   }
  },
  {
   "cell_type": "code",
   "execution_count": 167,
   "outputs": [
    {
     "name": "stdout",
     "output_type": "stream",
     "text": [
      "Age\n",
      "[22.   38.   26.   35.     nan 54.    2.   27.   14.    4.   58.   20.\n",
      " 39.   55.   31.   34.   15.   28.    8.   19.   40.   66.   42.   21.\n",
      " 18.    3.    7.   49.   29.   65.   28.5   5.   11.   45.   17.   32.\n",
      " 16.   25.    0.83 30.   33.   23.   24.   46.   59.   71.   37.   47.\n",
      " 14.5  70.5  32.5  12.    9.   36.5  51.   55.5  40.5  44.    1.   61.\n",
      " 56.   50.   36.   45.5  20.5  62.   41.   52.   63.   23.5   0.92 43.\n",
      " 60.   10.   64.   13.   48.    0.75 53.   57.   80.   70.   24.5   6.\n",
      "  0.67 30.5   0.42 34.5  74.  ]\n",
      "\n",
      "\n",
      "Cabin\n",
      "[nan 'C85' 'C123' 'E46' 'G6' 'C103' 'D56' 'A6' 'C23 C25 C27' 'B78' 'D33'\n",
      " 'B30' 'C52' 'B28' 'C83' 'F33' 'F G73' 'E31' 'A5' 'D10 D12' 'D26' 'C110'\n",
      " 'B58 B60' 'E101' 'F E69' 'D47' 'B86' 'F2' 'C2' 'E33' 'B19' 'A7' 'C49'\n",
      " 'F4' 'A32' 'B4' 'B80' 'A31' 'D36' 'D15' 'C93' 'C78' 'D35' 'C87' 'B77'\n",
      " 'E67' 'B94' 'C125' 'C99' 'C118' 'D7' 'A19' 'B49' 'D' 'C22 C26' 'C106'\n",
      " 'C65' 'E36' 'C54' 'B57 B59 B63 B66' 'C7' 'E34' 'C32' 'B18' 'C124' 'C91'\n",
      " 'E40' 'T' 'C128' 'D37' 'B35' 'E50' 'C82' 'B96 B98' 'E10' 'E44' 'A34'\n",
      " 'C104' 'C111' 'C92' 'E38' 'D21' 'E12' 'E63' 'A14' 'B37' 'C30' 'D20' 'B79'\n",
      " 'E25' 'D46' 'B73' 'C95' 'B38' 'B39' 'B22' 'C86' 'C70' 'A16' 'C101' 'C68'\n",
      " 'A10' 'E68' 'B41' 'A20' 'D19' 'D50' 'D9' 'A23' 'B50' 'A26' 'D48' 'E58'\n",
      " 'C126' 'B71' 'B51 B53 B55' 'D49' 'B5' 'B20' 'F G63' 'C62 C64' 'E24' 'C90'\n",
      " 'C45' 'E8' 'B101' 'D45' 'C46' 'D30' 'E121' 'D11' 'E77' 'F38' 'B3' 'D6'\n",
      " 'B82 B84' 'D17' 'A36' 'B102' 'B69' 'E49' 'C47' 'D28' 'E17' 'A24' 'C50'\n",
      " 'B42' 'C148']\n",
      "\n",
      "\n",
      "Embarked\n",
      "['S' 'C' 'Q' nan]\n",
      "\n",
      "\n"
     ]
    }
   ],
   "source": [
    "# See structure of data\n",
    "for col in hasNaNs:\n",
    "    print(col + \"\\n\" + str(titanic_df[col].unique()) + \"\\n\\n\")"
   ],
   "metadata": {
    "collapsed": false,
    "pycharm": {
     "name": "#%%\n"
    }
   }
  },
  {
   "cell_type": "markdown",
   "source": [
    "### Fill age column"
   ],
   "metadata": {
    "collapsed": false,
    "pycharm": {
     "name": "#%% md\n"
    }
   }
  },
  {
   "cell_type": "code",
   "execution_count": 168,
   "outputs": [
    {
     "name": "stderr",
     "output_type": "stream",
     "text": [
      "C:\\Users\\alexa\\AppData\\Local\\Temp\\ipykernel_3676\\1046380638.py:8: SettingWithCopyWarning: \n",
      "A value is trying to be set on a copy of a slice from a DataFrame\n",
      "\n",
      "See the caveats in the documentation: https://pandas.pydata.org/pandas-docs/stable/user_guide/indexing.html#returning-a-view-versus-a-copy\n",
      "  temp[i] = randint(min_age, max_age)\n"
     ]
    }
   ],
   "source": [
    "col = \"Age\"\n",
    "min_age = int(min(titanic_df[col]))\n",
    "max_age = int(max(titanic_df[col]))\n",
    "nanSpots = titanic_df[col].isna()\n",
    "temp = titanic_df[col]\n",
    "for i, nan in enumerate(nanSpots):\n",
    "    if nan == True:\n",
    "        temp[i] = randint(min_age, max_age)\n",
    "titanic_df[col] = temp"
   ],
   "metadata": {
    "collapsed": false,
    "pycharm": {
     "name": "#%%\n"
    }
   }
  },
  {
   "cell_type": "markdown",
   "source": [
    "### Fill embarked"
   ],
   "metadata": {
    "collapsed": false,
    "pycharm": {
     "name": "#%% md\n"
    }
   }
  },
  {
   "cell_type": "code",
   "execution_count": 169,
   "outputs": [
    {
     "data": {
      "text/plain": "S    644\nC    168\nQ     77\nName: Embarked, dtype: int64"
     },
     "execution_count": 169,
     "metadata": {},
     "output_type": "execute_result"
    }
   ],
   "source": [
    "titanic_df[\"Embarked\"].value_counts()"
   ],
   "metadata": {
    "collapsed": false,
    "pycharm": {
     "name": "#%%\n"
    }
   }
  },
  {
   "cell_type": "code",
   "execution_count": 170,
   "outputs": [
    {
     "data": {
      "text/plain": "S    646\nC    168\nQ     77\nName: Embarked, dtype: int64"
     },
     "execution_count": 170,
     "metadata": {},
     "output_type": "execute_result"
    }
   ],
   "source": [
    "# Find distribution of 'Embarked'\n",
    "titanic_df[\"Embarked\"] = titanic_df[\"Embarked\"].fillna('S')\n",
    "titanic_df[\"Embarked\"].value_counts()"
   ],
   "metadata": {
    "collapsed": false,
    "pycharm": {
     "name": "#%%\n"
    }
   }
  },
  {
   "cell_type": "markdown",
   "source": [
    "## 2. Transform categorical variables\n",
    "The columns 'Sex', 'Embarked' and 'Pclass' are considered as categorical variables.\n",
    "\n",
    "Firstly, 'Sex' is a binary variable where it attains the value of either male or female which will be encoded by a boolean.\n",
    "\n",
    "Secondly, the values of 'Embarked' and 'Pclass' will be encoded using one-hot encoding for each."
   ],
   "metadata": {
    "collapsed": false,
    "pycharm": {
     "name": "#%% md\n"
    }
   }
  },
  {
   "cell_type": "code",
   "execution_count": 171,
   "outputs": [
    {
     "data": {
      "text/plain": "   PassengerId  Survived                                               Name  \\\n0            1         0                            Braund, Mr. Owen Harris   \n1            2         1  Cumings, Mrs. John Bradley (Florence Briggs Th...   \n2            3         1                             Heikkinen, Miss. Laina   \n3            4         1       Futrelle, Mrs. Jacques Heath (Lily May Peel)   \n4            5         0                           Allen, Mr. William Henry   \n\n   Sex   Age  SibSp  Parch            Ticket     Fare Cabin  Embarked_C  \\\n0    1  22.0      1      0         A/5 21171   7.2500   NaN           0   \n1    0  38.0      1      0          PC 17599  71.2833   C85           1   \n2    0  26.0      0      0  STON/O2. 3101282   7.9250   NaN           0   \n3    0  35.0      1      0            113803  53.1000  C123           0   \n4    1  35.0      0      0            373450   8.0500   NaN           0   \n\n   Embarked_Q  Embarked_S  Pclass_1  Pclass_2  Pclass_3  \n0           0           1         0         0         1  \n1           0           0         1         0         0  \n2           0           1         0         0         1  \n3           0           1         1         0         0  \n4           0           1         0         0         1  ",
      "text/html": "<div>\n<style scoped>\n    .dataframe tbody tr th:only-of-type {\n        vertical-align: middle;\n    }\n\n    .dataframe tbody tr th {\n        vertical-align: top;\n    }\n\n    .dataframe thead th {\n        text-align: right;\n    }\n</style>\n<table border=\"1\" class=\"dataframe\">\n  <thead>\n    <tr style=\"text-align: right;\">\n      <th></th>\n      <th>PassengerId</th>\n      <th>Survived</th>\n      <th>Name</th>\n      <th>Sex</th>\n      <th>Age</th>\n      <th>SibSp</th>\n      <th>Parch</th>\n      <th>Ticket</th>\n      <th>Fare</th>\n      <th>Cabin</th>\n      <th>Embarked_C</th>\n      <th>Embarked_Q</th>\n      <th>Embarked_S</th>\n      <th>Pclass_1</th>\n      <th>Pclass_2</th>\n      <th>Pclass_3</th>\n    </tr>\n  </thead>\n  <tbody>\n    <tr>\n      <th>0</th>\n      <td>1</td>\n      <td>0</td>\n      <td>Braund, Mr. Owen Harris</td>\n      <td>1</td>\n      <td>22.0</td>\n      <td>1</td>\n      <td>0</td>\n      <td>A/5 21171</td>\n      <td>7.2500</td>\n      <td>NaN</td>\n      <td>0</td>\n      <td>0</td>\n      <td>1</td>\n      <td>0</td>\n      <td>0</td>\n      <td>1</td>\n    </tr>\n    <tr>\n      <th>1</th>\n      <td>2</td>\n      <td>1</td>\n      <td>Cumings, Mrs. John Bradley (Florence Briggs Th...</td>\n      <td>0</td>\n      <td>38.0</td>\n      <td>1</td>\n      <td>0</td>\n      <td>PC 17599</td>\n      <td>71.2833</td>\n      <td>C85</td>\n      <td>1</td>\n      <td>0</td>\n      <td>0</td>\n      <td>1</td>\n      <td>0</td>\n      <td>0</td>\n    </tr>\n    <tr>\n      <th>2</th>\n      <td>3</td>\n      <td>1</td>\n      <td>Heikkinen, Miss. Laina</td>\n      <td>0</td>\n      <td>26.0</td>\n      <td>0</td>\n      <td>0</td>\n      <td>STON/O2. 3101282</td>\n      <td>7.9250</td>\n      <td>NaN</td>\n      <td>0</td>\n      <td>0</td>\n      <td>1</td>\n      <td>0</td>\n      <td>0</td>\n      <td>1</td>\n    </tr>\n    <tr>\n      <th>3</th>\n      <td>4</td>\n      <td>1</td>\n      <td>Futrelle, Mrs. Jacques Heath (Lily May Peel)</td>\n      <td>0</td>\n      <td>35.0</td>\n      <td>1</td>\n      <td>0</td>\n      <td>113803</td>\n      <td>53.1000</td>\n      <td>C123</td>\n      <td>0</td>\n      <td>0</td>\n      <td>1</td>\n      <td>1</td>\n      <td>0</td>\n      <td>0</td>\n    </tr>\n    <tr>\n      <th>4</th>\n      <td>5</td>\n      <td>0</td>\n      <td>Allen, Mr. William Henry</td>\n      <td>1</td>\n      <td>35.0</td>\n      <td>0</td>\n      <td>0</td>\n      <td>373450</td>\n      <td>8.0500</td>\n      <td>NaN</td>\n      <td>0</td>\n      <td>0</td>\n      <td>1</td>\n      <td>0</td>\n      <td>0</td>\n      <td>1</td>\n    </tr>\n  </tbody>\n</table>\n</div>"
     },
     "execution_count": 171,
     "metadata": {},
     "output_type": "execute_result"
    }
   ],
   "source": [
    "# binarize gender\n",
    "titanic_df['Sex'] = titanic_df['Sex'].map({'male': 1, 'female': 0})\n",
    "\n",
    "# one hot for embark and pclass\n",
    "cols = ['Embarked', 'Pclass']\n",
    "for col in cols:\n",
    "    onehot = pd.get_dummies(titanic_df[col], prefix=col, dtype='int64')\n",
    "    titanic_df = titanic_df.drop(col, axis=1)\n",
    "    titanic_df = titanic_df.join(onehot)\n",
    "titanic_df.head()"
   ],
   "metadata": {
    "collapsed": false,
    "pycharm": {
     "name": "#%%\n"
    }
   }
  },
  {
   "cell_type": "markdown",
   "source": [
    "## 3. Drop columns with lacking predictive power\n",
    "Name, passengerId and ticket hold no interpretable information. Therefore, these rows will be dropped.\n",
    "\n",
    "In addition, the cabin column will also be removed. As earlier mentioned, this column has too many missing values to be reliable."
   ],
   "metadata": {
    "collapsed": false,
    "pycharm": {
     "name": "#%% md\n"
    }
   }
  },
  {
   "cell_type": "code",
   "execution_count": 172,
   "outputs": [],
   "source": [
    "drop_cols = ['Name', 'PassengerId', 'Ticket', 'Cabin']\n",
    "titanic_df = titanic_df.drop(['Name', 'PassengerId', 'Ticket', 'Cabin'], axis=1)"
   ],
   "metadata": {
    "collapsed": false,
    "pycharm": {
     "name": "#%%\n"
    }
   }
  },
  {
   "cell_type": "code",
   "execution_count": 173,
   "outputs": [
    {
     "data": {
      "text/plain": "            Survived       Sex       Age     SibSp     Parch      Fare  \\\nSurvived    1.000000 -0.543351 -0.055740 -0.035322  0.081629  0.257307   \nSex        -0.543351  1.000000  0.041276 -0.114631 -0.245489 -0.182333   \nAge        -0.055740  0.041276  1.000000 -0.175749 -0.170418  0.044140   \nSibSp      -0.035322 -0.114631 -0.175749  1.000000  0.414838  0.159651   \nParch       0.081629 -0.245489 -0.170418  0.414838  1.000000  0.216225   \nFare        0.257307 -0.182333  0.044140  0.159651  0.216225  1.000000   \nEmbarked_C  0.168240 -0.082853  0.033256 -0.059528 -0.011069  0.269335   \nEmbarked_Q  0.003650 -0.074115  0.059113 -0.026354 -0.081228 -0.117216   \nEmbarked_S -0.149683  0.119224 -0.066334  0.068734  0.060814 -0.162184   \nPclass_1    0.285904 -0.098013  0.223961 -0.054582 -0.017633  0.591711   \nPclass_2    0.093349 -0.064746 -0.058537 -0.055932 -0.000734 -0.118557   \nPclass_3   -0.322308  0.137143 -0.145325  0.092548  0.015790 -0.413333   \n\n            Embarked_C  Embarked_Q  Embarked_S  Pclass_1  Pclass_2  Pclass_3  \nSurvived      0.168240    0.003650   -0.149683  0.285904  0.093349 -0.322308  \nSex          -0.082853   -0.074115    0.119224 -0.098013 -0.064746  0.137143  \nAge           0.033256    0.059113   -0.066334  0.223961 -0.058537 -0.145325  \nSibSp        -0.059528   -0.026354    0.068734 -0.054582 -0.055932  0.092548  \nParch        -0.011069   -0.081228    0.060814 -0.017633 -0.000734  0.015790  \nFare          0.269335   -0.117216   -0.162184  0.591711 -0.118557 -0.413333  \nEmbarked_C    1.000000   -0.148258   -0.782742  0.296423 -0.125416 -0.153329  \nEmbarked_Q   -0.148258    1.000000   -0.499421 -0.155342 -0.127301  0.237449  \nEmbarked_S   -0.782742   -0.499421    1.000000 -0.161921  0.189980 -0.015104  \nPclass_1      0.296423   -0.155342   -0.161921  1.000000 -0.288585 -0.626738  \nPclass_2     -0.125416   -0.127301    0.189980 -0.288585  1.000000 -0.565210  \nPclass_3     -0.153329    0.237449   -0.015104 -0.626738 -0.565210  1.000000  ",
      "text/html": "<div>\n<style scoped>\n    .dataframe tbody tr th:only-of-type {\n        vertical-align: middle;\n    }\n\n    .dataframe tbody tr th {\n        vertical-align: top;\n    }\n\n    .dataframe thead th {\n        text-align: right;\n    }\n</style>\n<table border=\"1\" class=\"dataframe\">\n  <thead>\n    <tr style=\"text-align: right;\">\n      <th></th>\n      <th>Survived</th>\n      <th>Sex</th>\n      <th>Age</th>\n      <th>SibSp</th>\n      <th>Parch</th>\n      <th>Fare</th>\n      <th>Embarked_C</th>\n      <th>Embarked_Q</th>\n      <th>Embarked_S</th>\n      <th>Pclass_1</th>\n      <th>Pclass_2</th>\n      <th>Pclass_3</th>\n    </tr>\n  </thead>\n  <tbody>\n    <tr>\n      <th>Survived</th>\n      <td>1.000000</td>\n      <td>-0.543351</td>\n      <td>-0.055740</td>\n      <td>-0.035322</td>\n      <td>0.081629</td>\n      <td>0.257307</td>\n      <td>0.168240</td>\n      <td>0.003650</td>\n      <td>-0.149683</td>\n      <td>0.285904</td>\n      <td>0.093349</td>\n      <td>-0.322308</td>\n    </tr>\n    <tr>\n      <th>Sex</th>\n      <td>-0.543351</td>\n      <td>1.000000</td>\n      <td>0.041276</td>\n      <td>-0.114631</td>\n      <td>-0.245489</td>\n      <td>-0.182333</td>\n      <td>-0.082853</td>\n      <td>-0.074115</td>\n      <td>0.119224</td>\n      <td>-0.098013</td>\n      <td>-0.064746</td>\n      <td>0.137143</td>\n    </tr>\n    <tr>\n      <th>Age</th>\n      <td>-0.055740</td>\n      <td>0.041276</td>\n      <td>1.000000</td>\n      <td>-0.175749</td>\n      <td>-0.170418</td>\n      <td>0.044140</td>\n      <td>0.033256</td>\n      <td>0.059113</td>\n      <td>-0.066334</td>\n      <td>0.223961</td>\n      <td>-0.058537</td>\n      <td>-0.145325</td>\n    </tr>\n    <tr>\n      <th>SibSp</th>\n      <td>-0.035322</td>\n      <td>-0.114631</td>\n      <td>-0.175749</td>\n      <td>1.000000</td>\n      <td>0.414838</td>\n      <td>0.159651</td>\n      <td>-0.059528</td>\n      <td>-0.026354</td>\n      <td>0.068734</td>\n      <td>-0.054582</td>\n      <td>-0.055932</td>\n      <td>0.092548</td>\n    </tr>\n    <tr>\n      <th>Parch</th>\n      <td>0.081629</td>\n      <td>-0.245489</td>\n      <td>-0.170418</td>\n      <td>0.414838</td>\n      <td>1.000000</td>\n      <td>0.216225</td>\n      <td>-0.011069</td>\n      <td>-0.081228</td>\n      <td>0.060814</td>\n      <td>-0.017633</td>\n      <td>-0.000734</td>\n      <td>0.015790</td>\n    </tr>\n    <tr>\n      <th>Fare</th>\n      <td>0.257307</td>\n      <td>-0.182333</td>\n      <td>0.044140</td>\n      <td>0.159651</td>\n      <td>0.216225</td>\n      <td>1.000000</td>\n      <td>0.269335</td>\n      <td>-0.117216</td>\n      <td>-0.162184</td>\n      <td>0.591711</td>\n      <td>-0.118557</td>\n      <td>-0.413333</td>\n    </tr>\n    <tr>\n      <th>Embarked_C</th>\n      <td>0.168240</td>\n      <td>-0.082853</td>\n      <td>0.033256</td>\n      <td>-0.059528</td>\n      <td>-0.011069</td>\n      <td>0.269335</td>\n      <td>1.000000</td>\n      <td>-0.148258</td>\n      <td>-0.782742</td>\n      <td>0.296423</td>\n      <td>-0.125416</td>\n      <td>-0.153329</td>\n    </tr>\n    <tr>\n      <th>Embarked_Q</th>\n      <td>0.003650</td>\n      <td>-0.074115</td>\n      <td>0.059113</td>\n      <td>-0.026354</td>\n      <td>-0.081228</td>\n      <td>-0.117216</td>\n      <td>-0.148258</td>\n      <td>1.000000</td>\n      <td>-0.499421</td>\n      <td>-0.155342</td>\n      <td>-0.127301</td>\n      <td>0.237449</td>\n    </tr>\n    <tr>\n      <th>Embarked_S</th>\n      <td>-0.149683</td>\n      <td>0.119224</td>\n      <td>-0.066334</td>\n      <td>0.068734</td>\n      <td>0.060814</td>\n      <td>-0.162184</td>\n      <td>-0.782742</td>\n      <td>-0.499421</td>\n      <td>1.000000</td>\n      <td>-0.161921</td>\n      <td>0.189980</td>\n      <td>-0.015104</td>\n    </tr>\n    <tr>\n      <th>Pclass_1</th>\n      <td>0.285904</td>\n      <td>-0.098013</td>\n      <td>0.223961</td>\n      <td>-0.054582</td>\n      <td>-0.017633</td>\n      <td>0.591711</td>\n      <td>0.296423</td>\n      <td>-0.155342</td>\n      <td>-0.161921</td>\n      <td>1.000000</td>\n      <td>-0.288585</td>\n      <td>-0.626738</td>\n    </tr>\n    <tr>\n      <th>Pclass_2</th>\n      <td>0.093349</td>\n      <td>-0.064746</td>\n      <td>-0.058537</td>\n      <td>-0.055932</td>\n      <td>-0.000734</td>\n      <td>-0.118557</td>\n      <td>-0.125416</td>\n      <td>-0.127301</td>\n      <td>0.189980</td>\n      <td>-0.288585</td>\n      <td>1.000000</td>\n      <td>-0.565210</td>\n    </tr>\n    <tr>\n      <th>Pclass_3</th>\n      <td>-0.322308</td>\n      <td>0.137143</td>\n      <td>-0.145325</td>\n      <td>0.092548</td>\n      <td>0.015790</td>\n      <td>-0.413333</td>\n      <td>-0.153329</td>\n      <td>0.237449</td>\n      <td>-0.015104</td>\n      <td>-0.626738</td>\n      <td>-0.565210</td>\n      <td>1.000000</td>\n    </tr>\n  </tbody>\n</table>\n</div>"
     },
     "execution_count": 173,
     "metadata": {},
     "output_type": "execute_result"
    }
   ],
   "source": [
    "titanic_df.corr()"
   ],
   "metadata": {
    "collapsed": false,
    "pycharm": {
     "name": "#%%\n"
    }
   }
  },
  {
   "cell_type": "code",
   "execution_count": 174,
   "outputs": [
    {
     "data": {
      "text/plain": "   survived  sex   age  sibsp  parch     fare  embarked_c  embarked_q  \\\n0         0    1  22.0      1      0   7.2500           0           0   \n1         1    0  38.0      1      0  71.2833           1           0   \n2         1    0  26.0      0      0   7.9250           0           0   \n3         1    0  35.0      1      0  53.1000           0           0   \n4         0    1  35.0      0      0   8.0500           0           0   \n\n   embarked_s  pclass_1  pclass_2  pclass_3  \n0           1         0         0         1  \n1           0         1         0         0  \n2           1         0         0         1  \n3           1         1         0         0  \n4           1         0         0         1  ",
      "text/html": "<div>\n<style scoped>\n    .dataframe tbody tr th:only-of-type {\n        vertical-align: middle;\n    }\n\n    .dataframe tbody tr th {\n        vertical-align: top;\n    }\n\n    .dataframe thead th {\n        text-align: right;\n    }\n</style>\n<table border=\"1\" class=\"dataframe\">\n  <thead>\n    <tr style=\"text-align: right;\">\n      <th></th>\n      <th>survived</th>\n      <th>sex</th>\n      <th>age</th>\n      <th>sibsp</th>\n      <th>parch</th>\n      <th>fare</th>\n      <th>embarked_c</th>\n      <th>embarked_q</th>\n      <th>embarked_s</th>\n      <th>pclass_1</th>\n      <th>pclass_2</th>\n      <th>pclass_3</th>\n    </tr>\n  </thead>\n  <tbody>\n    <tr>\n      <th>0</th>\n      <td>0</td>\n      <td>1</td>\n      <td>22.0</td>\n      <td>1</td>\n      <td>0</td>\n      <td>7.2500</td>\n      <td>0</td>\n      <td>0</td>\n      <td>1</td>\n      <td>0</td>\n      <td>0</td>\n      <td>1</td>\n    </tr>\n    <tr>\n      <th>1</th>\n      <td>1</td>\n      <td>0</td>\n      <td>38.0</td>\n      <td>1</td>\n      <td>0</td>\n      <td>71.2833</td>\n      <td>1</td>\n      <td>0</td>\n      <td>0</td>\n      <td>1</td>\n      <td>0</td>\n      <td>0</td>\n    </tr>\n    <tr>\n      <th>2</th>\n      <td>1</td>\n      <td>0</td>\n      <td>26.0</td>\n      <td>0</td>\n      <td>0</td>\n      <td>7.9250</td>\n      <td>0</td>\n      <td>0</td>\n      <td>1</td>\n      <td>0</td>\n      <td>0</td>\n      <td>1</td>\n    </tr>\n    <tr>\n      <th>3</th>\n      <td>1</td>\n      <td>0</td>\n      <td>35.0</td>\n      <td>1</td>\n      <td>0</td>\n      <td>53.1000</td>\n      <td>0</td>\n      <td>0</td>\n      <td>1</td>\n      <td>1</td>\n      <td>0</td>\n      <td>0</td>\n    </tr>\n    <tr>\n      <th>4</th>\n      <td>0</td>\n      <td>1</td>\n      <td>35.0</td>\n      <td>0</td>\n      <td>0</td>\n      <td>8.0500</td>\n      <td>0</td>\n      <td>0</td>\n      <td>1</td>\n      <td>0</td>\n      <td>0</td>\n      <td>1</td>\n    </tr>\n  </tbody>\n</table>\n</div>"
     },
     "execution_count": 174,
     "metadata": {},
     "output_type": "execute_result"
    }
   ],
   "source": [
    "titanic_df = titanic_df.rename(columns=str.lower)\n",
    "titanic_df.survived = titanic_df.survived.astype(bool)\n",
    "titanic_df.head()"
   ],
   "metadata": {
    "collapsed": false,
    "pycharm": {
     "name": "#%%\n"
    }
   }
  },
  {
   "cell_type": "code",
   "execution_count": 175,
   "outputs": [],
   "source": [
    "titanic_df.to_csv('titanic_preprocessed.csv', index=False)"
   ],
   "metadata": {
    "collapsed": false,
    "pycharm": {
     "name": "#%%\n"
    }
   }
  },
  {
   "cell_type": "code",
   "execution_count": 175,
   "outputs": [],
   "source": [],
   "metadata": {
    "collapsed": false,
    "pycharm": {
     "name": "#%%\n"
    }
   }
  }
 ],
 "metadata": {
  "kernelspec": {
   "display_name": "Python 3",
   "language": "python",
   "name": "python3"
  },
  "language_info": {
   "codemirror_mode": {
    "name": "ipython",
    "version": 2
   },
   "file_extension": ".py",
   "mimetype": "text/x-python",
   "name": "python",
   "nbconvert_exporter": "python",
   "pygments_lexer": "ipython2",
   "version": "2.7.6"
  }
 },
 "nbformat": 4,
 "nbformat_minor": 0
}